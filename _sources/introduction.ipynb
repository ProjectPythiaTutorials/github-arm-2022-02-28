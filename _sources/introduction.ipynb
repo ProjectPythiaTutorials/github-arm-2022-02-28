{
 "cells": [
  {
   "cell_type": "markdown",
   "metadata": {},
   "source": [
    "# An Introduction to Github - Contributing to an Open Source Project\n",
    "\n",
    "* `02-28-2022` (Windows Users)\n",
    "* `03-01-2022` (Mac/Linux Users)"
   ]
  },
  {
   "cell_type": "markdown",
   "metadata": {},
   "source": [
    "---"
   ]
  },
  {
   "cell_type": "markdown",
   "metadata": {},
   "source": [
    "# Overview\n",
    "If you have an introductory paragraph, lead with it here! Then continue into the required list of topics below:\n",
    "\n",
    "1. Ideally These should map approximately to your main sections of content\n",
    "2. Or each second-level, ##, header in this tutorial notebook\n",
    "3. Keep the size and scope of your seminar in check\n",
    "4. Let the attendee know up front the important concepts they'll be leaving with"
   ]
  },
  {
   "cell_type": "markdown",
   "metadata": {},
   "source": [
    "# Prerequisites\n",
    "\n",
    "What concepts, packages, or other background information does your audience need before learning your material? Is this tutorial a continuation in a seminar series? Link to past required or recommended tutorials here.\n",
    "\n",
    "Here is a table if you would like to present the prequisite concepts as helpful/necessary as such.\n",
    "\n",
    "|Concepts | Importance | Notes |\n",
    "| --- | --- | --- |\n",
    "| Pandas Part 1 | Necessary | - |\n",
    "\n",
    "- Time to learn: 50 minutes."
   ]
  },
  {
   "cell_type": "markdown",
   "metadata": {},
   "source": [
    "---"
   ]
  },
  {
   "cell_type": "markdown",
   "metadata": {},
   "source": [
    "# Imports"
   ]
  },
  {
   "cell_type": "code",
   "execution_count": null,
   "metadata": {},
   "outputs": [],
   "source": [
    "import numpy\n",
    "import pandas"
   ]
  },
  {
   "cell_type": "markdown",
   "metadata": {},
   "source": [
    "# Your first content section\n",
    "\n",
    "Be sure to make your examples and lessons targed to an atmospheric and oceanic science audience. We want to keep things as relevant and interesting as possible to our attendees. Keep in mind that many scientists will want to copy and paste code from these lessons, and then make small edits so it works for their particular specific analysis."
   ]
  },
  {
   "cell_type": "code",
   "execution_count": null,
   "metadata": {},
   "outputs": [],
   "source": [
    "print(\"Hello world!\")"
   ]
  },
  {
   "cell_type": "markdown",
   "metadata": {},
   "source": [
    "## A content subsection\n",
    "\n",
    "Consider having excercises interspersed where the audience can attempt some coding similar to what you have shown them so that they can test their understanding or just explore. Then show the answer. For instance:\n",
    "\n",
    "In the next cell can you have Python print out the sum of 1 and 1?"
   ]
  },
  {
   "cell_type": "code",
   "execution_count": null,
   "metadata": {},
   "outputs": [],
   "source": []
  },
  {
   "cell_type": "markdown",
   "metadata": {},
   "source": [
    "Answer:"
   ]
  },
  {
   "cell_type": "code",
   "execution_count": null,
   "metadata": {},
   "outputs": [],
   "source": [
    "print(1 + 1)"
   ]
  },
  {
   "cell_type": "markdown",
   "metadata": {},
   "source": [
    "The amount of explanatory markdown you contain in your notebook is up to you. These tutorials are designed to be followed either with you live, or with you in the recording. Your commentary will complement the notebook skeleton regardless of the style of presentation you are most comfortable with."
   ]
  },
  {
   "cell_type": "markdown",
   "metadata": {},
   "source": [
    "---"
   ]
  },
  {
   "cell_type": "markdown",
   "metadata": {},
   "source": [
    "# Summary"
   ]
  },
  {
   "cell_type": "markdown",
   "metadata": {},
   "source": [
    "Conclude your presentation with a brief summary of the key pieces that were learned and how they tied to your objectives. Look to reiterate what the most important takeaways were. If you are coming back for a follow up tutorial seminar soon, let the audience know!\n",
    "\n",
    "## Resources and references\n",
    "List your citations and references as necessary. Give credit where credit is due. Also, feel free to link to relevant external material, further reading, documentation, etc. Only include what you're legally allowed: no copyright infringement or plagiarism\n",
    "\n",
    "Thank you for your contribution! And good luck on your tutorial!"
   ]
  }
 ],
 "metadata": {
  "interpreter": {
   "hash": "ddd0450b500bc335b81d82d5f3b776ab95bf4ec9d95f207e1e1ee937cf97991e"
  },
  "kernelspec": {
   "display_name": "Python 3.8.10 64-bit ('pythia_foundations_env': conda)",
   "name": "python3"
  },
  "language_info": {
   "codemirror_mode": {
    "name": "ipython",
    "version": 3
   },
   "file_extension": ".py",
   "mimetype": "text/x-python",
   "name": "python",
   "nbconvert_exporter": "python",
   "pygments_lexer": "ipython3",
   "version": "3.8.10"
  },
  "orig_nbformat": 4
 },
 "nbformat": 4,
 "nbformat_minor": 2
}
